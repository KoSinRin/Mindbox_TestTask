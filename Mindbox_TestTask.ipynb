{
  "nbformat": 4,
  "nbformat_minor": 0,
  "metadata": {
    "colab": {
      "provenance": [],
      "collapsed_sections": [],
      "authorship_tag": "ABX9TyM0MSVF9+/5GUFHBOXgFbrk"
    },
    "kernelspec": {
      "name": "python3",
      "display_name": "Python 3"
    },
    "language_info": {
      "name": "python"
    }
  },
  "cells": [
    {
      "cell_type": "code",
      "execution_count": 56,
      "metadata": {
        "id": "V2bn2SD9FLig"
      },
      "outputs": [],
      "source": [
        "# Найдём сумму цифр из ID\n",
        "\n",
        "def idSum(rawId:int):\n",
        "    ''' \n",
        "    idSum стартует с нулевым numSum, затем \"откусывает\" последнюю цифру из rawId и плюсует к numSum. \n",
        "    Процесс повторяется до тех пор, пока не будет просуммирована каждая цифра из значения rawId.\n",
        "    '''\n",
        "    numSum = 0\n",
        "    while rawId > 0:\n",
        "      numSum += rawId % 10\n",
        "      rawId //= 10\n",
        "    return numSum\n",
        "\n",
        "# При значении idSum(123475):  \n",
        "# 22"
      ]
    },
    {
      "cell_type": "code",
      "source": [
        "# Задача №1\n",
        "\n",
        "def customersGroups(n_customers:int) -> dict:\n",
        "  '''\n",
        "  customersGroups — это функция, которая подсчитывает число покупателей, попадающих в каждую группу, если нумерация ID сквозная и начинается с 0. \n",
        "  На вход функция получает целое число n_customers (количество клиентов).\n",
        "  '''\n",
        "  groupAndCust = {}\n",
        "  for custID in range(0, n_customers):\n",
        "    # Для формирования group, будем передавать по очереди значения в idSum, начиная с 0\n",
        "    # Суммируем значения в каждой из групп\n",
        "    # Если группа по полученному значению отсутствует, создадим её \n",
        "    # В конце, вернём словарь с покупателями по группам\n",
        "    group = idSum(custID)\n",
        "    if groupAndCust.get(group):\n",
        "      groupAndCust[group] += 1\n",
        "    else:\n",
        "      groupAndCust[group] = 1\n",
        "  return groupAndCust\n",
        "\n",
        "# При customersGroups(20):\n",
        "# {0: 1, 1: 2, 2: 2, 3: 2, 4: 2, 5: 2, 6: 2, 7: 2, 8: 2, 9: 2, 10: 1}"
      ],
      "metadata": {
        "id": "jFSiuELZri6b"
      },
      "execution_count": 57,
      "outputs": []
    },
    {
      "cell_type": "code",
      "source": [
        "# Задача №2\n",
        "\n",
        "def customersGroupsFromN(n_first_id:int, n_customers:int) -> dict:\n",
        "  '''\n",
        "  Функция, аналогичная customersGroups, если ID начинается с произвольного числа. \n",
        "  На вход функция получает целые числа: n_customers (количество клиентов) и n_first_id (первый ID в последовательности).\n",
        "  '''\n",
        "  groupAndCust = {}\n",
        "  for custID in range(n_first_id, n_first_id + n_customers):\n",
        "    # Алгоритм почти полность аналогичен customersGroups, но \n",
        "    # добавляется значение n_first_id для старта + суммируем n_first_id и n_customers для получения id последнего клиента\n",
        "    group = idSum(custID)\n",
        "    if groupAndCust.get(group):\n",
        "      groupAndCust[group] += 1\n",
        "    else:\n",
        "      groupAndCust[group] = 1\n",
        "  return groupAndCust\n",
        "\n",
        "# При customersGroupsFromN(7,21):\n",
        "# {7: 3, 8: 3, 9: 3, 1: 1, 2: 2, 3: 2, 4: 2, 5: 2, 6: 2, 10: 1}"
      ],
      "metadata": {
        "id": "QHEXxQ6Qrion"
      },
      "execution_count": 58,
      "outputs": []
    }
  ]
}